{
 "cells": [
  {
   "cell_type": "code",
   "execution_count": null,
   "metadata": {},
   "outputs": [],
   "source": [
    "import pandas as pd\n",
    "import numpy as np\n",
    "import matplotlib.pyplot as plt\n",
    "\n",
    "import sklearn.preprocessing as skl_pre\n",
    "import sklearn.linear_model as skl_lm\n",
    "import sklearn.discriminant_analysis as skl_da\n",
    "import sklearn.neighbors as skl_nb\n",
    "import sklearn.model_selection as skl_ms\n",
    "\n",
    "from Preprocessing import X, Y, n_fold, cv, random_split \n",
    "trainX, trainY, testX, testY = random_split(0.8)\n",
    "help(plt.plot)"
   ]
  },
  {
   "cell_type": "code",
   "execution_count": null,
   "metadata": {},
   "outputs": [],
   "source": [
    "n_fold = 10 #number of splits in KFold\n",
    "Cvals = np.linspace(0.00001, 100, 1000) #Test C-values\n",
    "solvers = ['lbfgs', 'liblinear', 'newton-cg', 'sag', 'saga']\n",
    "\n",
    "best_Cvals_lst = [] #list with best C values for each solver\n",
    "\n",
    "\n",
    "for solver in solvers:\n",
    "    error = [] #list with error for specific solver\n",
    "    for C in Cvals:\n",
    "        model = skl_lm.LogisticRegression(solver=solver,C=C)\n",
    "        fold_error = [] #error list for each C value\n",
    "        cv = skl_ms.KFold(n_splits=n_fold, random_state=1, shuffle=True)\n",
    "        for train_index, val_index in cv.split(X):\n",
    "            #Doing logisitc regression\n",
    "            X_train, X_val = X.iloc[train_index], X.iloc[val_index]\n",
    "            Y_train, Y_val = Y.iloc[train_index], Y.iloc[val_index]\n",
    "            model.fit(X_train, Y_train)\n",
    "            prediction = model.predict(X_val)\n",
    "            fold_error.append(np.mean(prediction != Y_val))\n",
    "        error.append(np.mean(fold_error))\n",
    "    index_best_C = np.argmin(error) #find in index for C value for minimum error\n",
    "\n",
    "    best_Cvals_lst.append((solver,Cvals[index_best_C])) \n",
    "\n",
    "    plt.plot(Cvals, error, label = f\"{solver}\") #plot a curve for each solver\n",
    "\n",
    "#print C value that gives minimum error for each solver\n",
    "for solver, best_C in best_Cvals_lst:\n",
    "    print(f\"Best C value for {solver}: {best_C}\")\n",
    "\n",
    "plt.title('Validation error vs. Invers of regularization strength C')\n",
    "plt.xlabel('Invers of regularization strength C')\n",
    "plt.ylabel('Validation error')\n",
    "plt.legend()\n",
    "plt.show()\n"
   ]
  },
  {
   "cell_type": "markdown",
   "metadata": {},
   "source": [
    "Following code calculate the validation error for each solver and with C=82.8828845945946"
   ]
  },
  {
   "cell_type": "code",
   "execution_count": null,
   "metadata": {},
   "outputs": [],
   "source": [
    "n_fold = 10 #number of folds\n",
    "solvers = ['lbfgs', 'liblinear', 'newton-cg', 'sag', 'saga'] #Diffrent solves to test\n",
    "validation_errors = [] #list that will contain validation error for the solvers\n",
    "\n",
    "\n",
    "for solver in solvers:\n",
    "    val_error = [] #list with validation error for specific solver\n",
    "    model = skl_lm.LogisticRegression(solver=solver, C=82.8828845945946,max_iter=10000) #model with specific solver\n",
    "    cv = skl_ms.KFold(n_splits=n_fold, random_state=1, shuffle=True)\n",
    "    #Train the model and calculate validation error\n",
    "    for train_index, val_index in cv.split(X): \n",
    "        X_train, X_val = X.iloc[train_index], X.iloc[val_index]\n",
    "        Y_train, Y_val = Y.iloc[train_index], Y.iloc[val_index]\n",
    "        model.fit(X_train, Y_train)\n",
    "        prediction = model.predict(X_val)\n",
    "        val_error.append(np.mean(prediction != Y_val))\n",
    "    mean_val_error = np.mean(val_error) #Get mean validation error for specific solver\n",
    "    validation_errors.append((solver, mean_val_error))\n",
    "\n",
    "#Print validation error for each solver\n",
    "for solver, error in validation_errors:\n",
    "    print(f\"Validation error for {solver}: {error}\")\n",
    "#Shows that liblinear is the best solver, for C=82.8828845945946 and else default settings."
   ]
  },
  {
   "cell_type": "code",
   "execution_count": null,
   "metadata": {},
   "outputs": [
    {
     "name": "stdout",
     "output_type": "stream",
     "text": [
      "Validation error for liblinear solver with best C: 0.8525\n"
     ]
    }
   ],
   "source": [
    "#Print validation error for liblinear solver with best C\n",
    "print(f\"Validation error for liblinear solver with best C: {validation_errors[1][1]}\")"
   ]
  },
  {
   "cell_type": "code",
   "execution_count": 114,
   "metadata": {},
   "outputs": [
    {
     "name": "stdout",
     "output_type": "stream",
     "text": [
      "Accuracy of final logistic regression model:  0.815625\n",
      "Confusion matrix:\n"
     ]
    },
    {
     "name": "stderr",
     "output_type": "stream",
     "text": [
      "/opt/anaconda3/lib/python3.9/site-packages/sklearn/linear_model/_sag.py:352: ConvergenceWarning: The max_iter was reached which means the coef_ did not converge\n",
      "  warnings.warn(\n"
     ]
    },
    {
     "data": {
      "text/html": [
       "<div>\n",
       "<style scoped>\n",
       "    .dataframe tbody tr th:only-of-type {\n",
       "        vertical-align: middle;\n",
       "    }\n",
       "\n",
       "    .dataframe tbody tr th {\n",
       "        vertical-align: top;\n",
       "    }\n",
       "\n",
       "    .dataframe thead th {\n",
       "        text-align: right;\n",
       "    }\n",
       "</style>\n",
       "<table border=\"1\" class=\"dataframe\">\n",
       "  <thead>\n",
       "    <tr style=\"text-align: right;\">\n",
       "      <th>Predicted</th>\n",
       "      <th>high_bike_demand</th>\n",
       "      <th>low_bike_demand</th>\n",
       "    </tr>\n",
       "    <tr>\n",
       "      <th>True</th>\n",
       "      <th></th>\n",
       "      <th></th>\n",
       "    </tr>\n",
       "  </thead>\n",
       "  <tbody>\n",
       "    <tr>\n",
       "      <th>high_bike_demand</th>\n",
       "      <td>18</td>\n",
       "      <td>49</td>\n",
       "    </tr>\n",
       "    <tr>\n",
       "      <th>low_bike_demand</th>\n",
       "      <td>10</td>\n",
       "      <td>243</td>\n",
       "    </tr>\n",
       "  </tbody>\n",
       "</table>\n",
       "</div>"
      ],
      "text/plain": [
       "Predicted         high_bike_demand  low_bike_demand\n",
       "True                                               \n",
       "high_bike_demand                18               49\n",
       "low_bike_demand                 10              243"
      ]
     },
     "execution_count": 114,
     "metadata": {},
     "output_type": "execute_result"
    }
   ],
   "source": [
    "finalModel = model = skl_lm.LogisticRegression(solver=solver,C=82.8828845945946)\n",
    "finalModel.fit(trainX, trainY)\n",
    "# Test the final model using the test set\n",
    "print('Accuracy of final logistic regression model: ', finalModel.score(testX, testY))\n",
    "print('Confusion matrix:')\n",
    "pd.crosstab(testY, finalModel.predict(testX), rownames=['True'], colnames=['Predicted'], margins=False)"
   ]
  }
 ],
 "metadata": {
  "kernelspec": {
   "display_name": "base",
   "language": "python",
   "name": "python3"
  },
  "language_info": {
   "codemirror_mode": {
    "name": "ipython",
    "version": 3
   },
   "file_extension": ".py",
   "mimetype": "text/x-python",
   "name": "python",
   "nbconvert_exporter": "python",
   "pygments_lexer": "ipython3",
   "version": "3.9.13"
  }
 },
 "nbformat": 4,
 "nbformat_minor": 2
}
